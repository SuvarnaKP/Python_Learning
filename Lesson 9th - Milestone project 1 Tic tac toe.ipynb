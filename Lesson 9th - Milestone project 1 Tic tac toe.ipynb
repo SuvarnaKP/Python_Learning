{
 "cells": [
  {
   "cell_type": "code",
   "execution_count": 64,
   "metadata": {},
   "outputs": [],
   "source": [
    "# 20200720  -  My attempt to do Tic tac toe - my way using bit of help -- 9:05 pm Start time  -- 11:20 pm End time"
   ]
  },
  {
   "cell_type": "code",
   "execution_count": 31,
   "metadata": {},
   "outputs": [],
   "source": [
    "#flow \n",
    "# Display positions\n",
    "# Ask player one to choose sign. The declare sign of Player 2\n",
    "# Toggle inputs from Player 1 and Player 2, followed by display\n",
    "    # each input should validate 2 things \n",
    "        # 1. it should be in 1 to 9\n",
    "        # 2. Current location value should be list[Location value] in 1 to 9 i.e. it should not be X or O \n",
    "    # display the value\n",
    "    # check if winner present\n",
    "        # can use dictionary here for 8 possibnilities : set(1,2,3) (4,5,6),(7,8,9),(1,4,7,),(2,5,8),(3,6,9),(1,5,9),(3,5,7)\n",
    "        # if len (set(values)) == 1, then get the symbol. Compare with Player symbol and display winner\n",
    "        # else ask next player"
   ]
  },
  {
   "cell_type": "code",
   "execution_count": 1,
   "metadata": {}, 
   "outputs": [],
   "source": [
    "from IPython.display import clear_output\n",
    "clear_output()"
   ]
  },
  {
   "cell_type": "code",
   "execution_count": 2,
   "metadata": {},
   "outputs": [],
   "source": [
    "def display_grid (game_list):\n",
    "    print ('',game_list[7],'|',game_list[8],'|',game_list[9])\n",
    "    print ('-----------')\n",
    "    print ('',game_list[4],'|',game_list[5],'|',game_list[6])\n",
    "    print ('-----------')\n",
    "    print ('',game_list[1],'|',game_list[2],'|',game_list[3])"
   ]
  },
  {
   "cell_type": "code",
   "execution_count": 3,
   "metadata": {},
   "outputs": [],
   "source": [
    "game_list=[0,1,2,3,4,5,6,7,8,9]"
   ]
  },
  {
   "cell_type": "code",
   "execution_count": 4,
   "metadata": {},
   "outputs": [
    {
     "name": "stdout",
     "output_type": "stream",
     "text": [
      " 7 | 8 | 9\n",
      "-----------\n",
      " 4 | 5 | 6\n",
      "-----------\n",
      " 1 | 2 | 3\n"
     ]
    }
   ],
   "source": [
    "#clear_output()\n",
    "display_grid(game_list)"
   ]
  },
  {
   "cell_type": "code",
   "execution_count": 5,
   "metadata": {},
   "outputs": [],
   "source": [
    "def choose_symbol ():\n",
    "    \n",
    "    choose = False\n",
    "    \n",
    "    while not choose:\n",
    "        sym = input (\"Player 1 Choose Symbol - X or O : \")\n",
    "        if sym in ['X','O']:\n",
    "            return sym\n",
    "        else :\n",
    "            print ('Incorrect selection!')"
   ]
  },
  {
   "cell_type": "code",
   "execution_count": 30,
   "metadata": {},
   "outputs": [
    {
     "name": "stdout",
     "output_type": "stream",
     "text": [
      "Player 1 : Choose Symbol - X or Oz\n",
      "Incorrect selection!\n",
      "Player 1 : Choose Symbol - X or OX\n"
     ]
    },
    {
     "data": {
      "text/plain": [
       "'X'"
      ]
     },
     "execution_count": 30,
     "metadata": {},
     "output_type": "execute_result"
    }
   ],
   "source": [
    "choose_symbol()"
   ]
  },
  {
   "cell_type": "code",
   "execution_count": 6,
   "metadata": {},
   "outputs": [],
   "source": [
    "def accept_value(game_list,player_sym): #player, player_sym):\n",
    "    choose = False\n",
    "    valid_locations = [1,2,3,4,5,6,7,8,9]\n",
    "    while not choose:\n",
    "        position = input ('Enter the position (1-9) : ')\n",
    "        if position.isdigit():\n",
    "            position_int = int(position)\n",
    "            if position_int in valid_locations and game_list[position_int] in valid_locations:\n",
    "                game_list[position_int] = player_sym\n",
    "                choose = True\n",
    "            else : \n",
    "                print(\"Enter a non-occupied Position or Within range\")  \n",
    "                choose = False                        \n",
    "        else : \n",
    "            print(\"Enter a valid Position\")  \n",
    "    \n",
    "    return game_list"
   ]
  },
  {
   "cell_type": "code",
   "execution_count": null,
   "metadata": {},
   "outputs": [],
   "source": [
    "accept_value(game_list,choose_symbol())"
   ]
  },
  {
   "cell_type": "code",
   "execution_count": 7,
   "metadata": {},
   "outputs": [
    {
     "name": "stdout",
     "output_type": "stream",
     "text": [
      " 7 | 8 | 9\n",
      "-----------\n",
      " 4 | 5 | 6\n",
      "-----------\n",
      " 1 | 2 | 3\n"
     ]
    }
   ],
   "source": [
    "display_grid(game_list)"
   ]
  },
  {
   "cell_type": "code",
   "execution_count": 53,
   "metadata": {},
   "outputs": [],
   "source": [
    "def check_win (game_list,player_sym):\n",
    "    win_dict = { 0 : [1,2,3], 1: [4,5,6], 2: [7,8,9], 3: [1,4,7,], 4: [2,5,8],5: [3,6,9], 6: [1,5,9], 7: [3,5,7]}\n",
    "    check_list = []\n",
    "    for i in range (0,8):\n",
    "        check_list.append(game_list[win_dict[i][0]])\n",
    "        check_list.append(game_list[win_dict[i][1]])\n",
    "        check_list.append(game_list[win_dict[i][2]])\n",
    "        print(check_list)\n",
    "        if len(list(set(check_list))) == 1 and check_list[0] == player_sym:\n",
    "            print ('Win')\n",
    "            return True\n",
    "        else :\n",
    "            check_list = []\n",
    "    return False"
   ]
  },
  {
   "cell_type": "code",
   "execution_count": 19,
   "metadata": {},
   "outputs": [],
   "source": [
    "check_list = list(game_list[win_dict[0][0]])  #,game_list[win_dict[0][1]],game_list[win_dict[0][2]])"
   ]
  },
  {
   "cell_type": "code",
   "execution_count": 20,
   "metadata": {},
   "outputs": [],
   "source": [
    "check_list.append(game_list[win_dict[0][1]])"
   ]
  },
  {
   "cell_type": "code",
   "execution_count": 21,
   "metadata": {},
   "outputs": [],
   "source": [
    "check_list.append(game_list[win_dict[0][2]])"
   ]
  },
  {
   "cell_type": "code",
   "execution_count": 60,
   "metadata": {},
   "outputs": [],
   "source": [
    "game_list=[0,'X','X','X',4,5,6,7,8,9]"
   ]
  },
  {
   "cell_type": "code",
   "execution_count": 61,
   "metadata": {},
   "outputs": [
    {
     "data": {
      "text/plain": [
       "7"
      ]
     },
     "execution_count": 61,
     "metadata": {},
     "output_type": "execute_result"
    }
   ],
   "source": [
    "len(list(set(game_list[1:])))\n",
    "\n",
    "    "
   ]
  },
  {
   "cell_type": "code",
   "execution_count": 54,
   "metadata": {},
   "outputs": [
    {
     "name": "stdout",
     "output_type": "stream",
     "text": [
      "Player 1 Choose Symbol - X or O : O\n",
      "['X', 'X', 'X']\n",
      "[4, 5, 6]\n",
      "[7, 8, 9]\n",
      "['X', 4, 7]\n",
      "['X', 5, 8]\n",
      "['X', 6, 9]\n",
      "['X', 5, 9]\n",
      "['X', 5, 7]\n"
     ]
    },
    {
     "data": {
      "text/plain": [
       "False"
      ]
     },
     "execution_count": 54,
     "metadata": {},
     "output_type": "execute_result"
    }
   ],
   "source": [
    "check_win(game_list,choose_symbol())"
   ]
  },
  {
   "cell_type": "code",
   "execution_count": 34,
   "metadata": {},
   "outputs": [
    {
     "data": {
      "text/plain": [
       "[0, 'X', 2, 3, 4, 5, 6, 7, 8, 'O']"
      ]
     },
     "execution_count": 34,
     "metadata": {},
     "output_type": "execute_result"
    }
   ],
   "source": [
    "game_list"
   ]
  },
  {
   "cell_type": "code",
   "execution_count": 63,
   "metadata": {},
   "outputs": [
    {
     "name": "stdout",
     "output_type": "stream",
     "text": [
      " 7 | O | 9\n",
      "-----------\n",
      " X | O | X\n",
      "-----------\n",
      " X | O | 3\n",
      "['X', 'O', 3]\n",
      "['X', 'O', 'X']\n",
      "[7, 'O', 9]\n",
      "['X', 'X', 7]\n",
      "['O', 'O', 'O']\n",
      "Win\n",
      "Player 2 Wins\n"
     ]
    }
   ],
   "source": [
    "from IPython.display import clear_output\n",
    "clear_output()\n",
    "\n",
    "gameon = True\n",
    "game_list=[0,1,2,3,4,5,6,7,8,9]\n",
    "#print ('Player 1')\n",
    "player1_sym = choose_symbol()\n",
    "chance = 1\n",
    "win = False\n",
    "\n",
    "if player1_sym == 'X':\n",
    "    player2_sym = 'O'\n",
    "else :\n",
    "    player2_sym = 'X'\n",
    "    \n",
    "print ('\\n\\nPlayer 1 Symbol : {} \\nPlayer 2 symbol : {} \\n\\n Game Starts \\n'.format(player1_sym,player2_sym))\n",
    "display_grid(game_list)\n",
    "\n",
    "while chance in [1,2]:\n",
    "    if chance == 1:\n",
    "        clear_output()\n",
    "        display_grid(game_list)\n",
    "        print ('\\n\\nPlayer 1 Symbol : {} \\nPlayer 2 symbol : {} \\n'.format(player1_sym,player2_sym))\n",
    "        print ('Player 1 play : ')\n",
    "        game_list = accept_value(game_list,player1_sym)\n",
    "        clear_output()\n",
    "        display_grid(game_list)\n",
    "        #check win\n",
    "        win = check_win(game_list,player1_sym)\n",
    "        if win :\n",
    "            chance = 3\n",
    "            break\n",
    "        chance = 2\n",
    "        if len(list(set(game_list[1:]))) == 2 :\n",
    "            print ('Its a DRAW!!')\n",
    "            chance = 5\n",
    "            break\n",
    "    if chance == 2:\n",
    "        clear_output()\n",
    "        display_grid(game_list)\n",
    "        print ('\\n\\nPlayer 1 Symbol : {} \\nPlayer 2 symbol : {} \\n'.format(player1_sym,player2_sym))\n",
    "        print ('Player 2 play : ')\n",
    "        game_list = accept_value(game_list,player2_sym)\n",
    "        clear_output()\n",
    "        display_grid(game_list)\n",
    "        win = check_win(game_list,player2_sym)\n",
    "        if win :\n",
    "            chance = 4\n",
    "            break\n",
    "        chance = 1\n",
    "        if len(list(set(game_list[1:]))) == 2 :\n",
    "            print ('Its a DRAW!!')\n",
    "            chance = 5\n",
    "            break\n",
    "        \n",
    "if chance == 3:\n",
    "    print ('Player 1 wins')\n",
    "elif chance == 4 :\n",
    "    print ('Player 2 Wins')"
   ]
  },
  {
   "cell_type": "code",
   "execution_count": null,
   "metadata": {},
   "outputs": [],
   "source": []
  },
  {
   "cell_type": "code",
   "execution_count": null,
   "metadata": {},
   "outputs": [],
   "source": []
  }
 ],
 "metadata": {
  "kernelspec": {
   "display_name": "Python 3",
   "language": "python",
   "name": "python3"
  },
  "language_info": {
   "codemirror_mode": {
    "name": "ipython",
    "version": 3
   },
   "file_extension": ".py",
   "mimetype": "text/x-python",
   "name": "python",
   "nbconvert_exporter": "python",
   "pygments_lexer": "ipython3",
   "version": "3.7.3"
  }
 },
 "nbformat": 4,
 "nbformat_minor": 2
}
